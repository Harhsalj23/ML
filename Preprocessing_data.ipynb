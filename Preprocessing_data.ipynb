{
 "cells": [
  {
   "cell_type": "code",
   "execution_count": 1,
   "id": "fec499f0-7792-48f4-843e-7a4cefe04d5d",
   "metadata": {},
   "outputs": [],
   "source": [
    "import numpy as np\n",
    "import pandas as pd\n",
    "import matplotlib.pyplot as plt\n",
    "import seaborn as sns"
   ]
  },
  {
   "cell_type": "code",
   "execution_count": 2,
   "id": "db140a4b-5cce-43fb-aaf8-0345d39eebca",
   "metadata": {},
   "outputs": [],
   "source": [
    "data = pd.read_csv('preprocessing data.csv')"
   ]
  },
  {
   "cell_type": "code",
   "execution_count": 3,
   "id": "27b03137-6f93-4af6-92c3-26034aedeaf9",
   "metadata": {},
   "outputs": [
    {
     "data": {
      "text/plain": [
       "A    3\n",
       "B    3\n",
       "C    4\n",
       "D    3\n",
       "E    4\n",
       "F    2\n",
       "G    4\n",
       "H    4\n",
       "dtype: int64"
      ]
     },
     "execution_count": 3,
     "metadata": {},
     "output_type": "execute_result"
    }
   ],
   "source": [
    "data.isnull().sum()"
   ]
  },
  {
   "cell_type": "code",
   "execution_count": 4,
   "id": "fa20da88-19fa-41e0-bbc7-4c239eb8abaa",
   "metadata": {},
   "outputs": [
    {
     "data": {
      "text/html": [
       "<div>\n",
       "<style scoped>\n",
       "    .dataframe tbody tr th:only-of-type {\n",
       "        vertical-align: middle;\n",
       "    }\n",
       "\n",
       "    .dataframe tbody tr th {\n",
       "        vertical-align: top;\n",
       "    }\n",
       "\n",
       "    .dataframe thead th {\n",
       "        text-align: right;\n",
       "    }\n",
       "</style>\n",
       "<table border=\"1\" class=\"dataframe\">\n",
       "  <thead>\n",
       "    <tr style=\"text-align: right;\">\n",
       "      <th></th>\n",
       "      <th>A</th>\n",
       "      <th>B</th>\n",
       "      <th>C</th>\n",
       "      <th>D</th>\n",
       "      <th>E</th>\n",
       "      <th>F</th>\n",
       "      <th>G</th>\n",
       "      <th>H</th>\n",
       "    </tr>\n",
       "  </thead>\n",
       "  <tbody>\n",
       "    <tr>\n",
       "      <th>0</th>\n",
       "      <td>23.0</td>\n",
       "      <td>8000.0</td>\n",
       "      <td>1.1</td>\n",
       "      <td>23.0</td>\n",
       "      <td>555.0</td>\n",
       "      <td>Red</td>\n",
       "      <td>Yes</td>\n",
       "      <td>Male</td>\n",
       "    </tr>\n",
       "    <tr>\n",
       "      <th>1</th>\n",
       "      <td>32.0</td>\n",
       "      <td>5000.0</td>\n",
       "      <td>2.1</td>\n",
       "      <td>26.0</td>\n",
       "      <td>555.5</td>\n",
       "      <td>Blue</td>\n",
       "      <td>No</td>\n",
       "      <td>Male</td>\n",
       "    </tr>\n",
       "    <tr>\n",
       "      <th>2</th>\n",
       "      <td>46.0</td>\n",
       "      <td>6000.0</td>\n",
       "      <td>2.4</td>\n",
       "      <td>125.0</td>\n",
       "      <td>555.5</td>\n",
       "      <td>Black</td>\n",
       "      <td>Yes</td>\n",
       "      <td>NaN</td>\n",
       "    </tr>\n",
       "    <tr>\n",
       "      <th>3</th>\n",
       "      <td>54.0</td>\n",
       "      <td>70000.0</td>\n",
       "      <td>2.4</td>\n",
       "      <td>140.0</td>\n",
       "      <td>555.5</td>\n",
       "      <td>Red</td>\n",
       "      <td>NaN</td>\n",
       "      <td>NaN</td>\n",
       "    </tr>\n",
       "    <tr>\n",
       "      <th>4</th>\n",
       "      <td>64.0</td>\n",
       "      <td>6500.0</td>\n",
       "      <td>3.6</td>\n",
       "      <td>24.0</td>\n",
       "      <td>574.0</td>\n",
       "      <td>NaN</td>\n",
       "      <td>No</td>\n",
       "      <td>Male</td>\n",
       "    </tr>\n",
       "    <tr>\n",
       "      <th>5</th>\n",
       "      <td>46.0</td>\n",
       "      <td>6000.0</td>\n",
       "      <td>2.5</td>\n",
       "      <td>26.0</td>\n",
       "      <td>556.0</td>\n",
       "      <td>Red</td>\n",
       "      <td>NaN</td>\n",
       "      <td>Female</td>\n",
       "    </tr>\n",
       "    <tr>\n",
       "      <th>6</th>\n",
       "      <td>46.0</td>\n",
       "      <td>6000.0</td>\n",
       "      <td>2.4</td>\n",
       "      <td>26.0</td>\n",
       "      <td>545.0</td>\n",
       "      <td>Blue</td>\n",
       "      <td>NaN</td>\n",
       "      <td>Male</td>\n",
       "    </tr>\n",
       "    <tr>\n",
       "      <th>7</th>\n",
       "      <td>53.0</td>\n",
       "      <td>4500.0</td>\n",
       "      <td>2.4</td>\n",
       "      <td>26.0</td>\n",
       "      <td>586.0</td>\n",
       "      <td>Red</td>\n",
       "      <td>Yes</td>\n",
       "      <td>NaN</td>\n",
       "    </tr>\n",
       "    <tr>\n",
       "      <th>8</th>\n",
       "      <td>46.0</td>\n",
       "      <td>6000.0</td>\n",
       "      <td>4.2</td>\n",
       "      <td>26.0</td>\n",
       "      <td>555.5</td>\n",
       "      <td>Black</td>\n",
       "      <td>Yes</td>\n",
       "      <td>Male</td>\n",
       "    </tr>\n",
       "    <tr>\n",
       "      <th>9</th>\n",
       "      <td>24.0</td>\n",
       "      <td>3200.0</td>\n",
       "      <td>2.3</td>\n",
       "      <td>25.0</td>\n",
       "      <td>546.0</td>\n",
       "      <td>NaN</td>\n",
       "      <td>NaN</td>\n",
       "      <td>NaN</td>\n",
       "    </tr>\n",
       "  </tbody>\n",
       "</table>\n",
       "</div>"
      ],
      "text/plain": [
       "      A        B    C      D      E      F     G       H\n",
       "0  23.0   8000.0  1.1   23.0  555.0    Red  Yes     Male\n",
       "1  32.0   5000.0  2.1   26.0  555.5   Blue    No    Male\n",
       "2  46.0   6000.0  2.4  125.0  555.5  Black  Yes      NaN\n",
       "3  54.0  70000.0  2.4  140.0  555.5    Red   NaN     NaN\n",
       "4  64.0   6500.0  3.6   24.0  574.0    NaN    No    Male\n",
       "5  46.0   6000.0  2.5   26.0  556.0    Red   NaN  Female\n",
       "6  46.0   6000.0  2.4   26.0  545.0   Blue   NaN    Male\n",
       "7  53.0   4500.0  2.4   26.0  586.0    Red  Yes      NaN\n",
       "8  46.0   6000.0  4.2   26.0  555.5  Black  Yes     Male\n",
       "9  24.0   3200.0  2.3   25.0  546.0    NaN   NaN     NaN"
      ]
     },
     "execution_count": 4,
     "metadata": {},
     "output_type": "execute_result"
    }
   ],
   "source": [
    "data.fillna(data.median(numeric_only=True).round(1), inplace=True)\n",
    "pd.DataFrame(data)"
   ]
  },
  {
   "cell_type": "code",
   "execution_count": 5,
   "id": "bef44ce7-3af0-4e68-8f60-57caa6df7203",
   "metadata": {},
   "outputs": [
    {
     "data": {
      "text/html": [
       "<div>\n",
       "<style scoped>\n",
       "    .dataframe tbody tr th:only-of-type {\n",
       "        vertical-align: middle;\n",
       "    }\n",
       "\n",
       "    .dataframe tbody tr th {\n",
       "        vertical-align: top;\n",
       "    }\n",
       "\n",
       "    .dataframe thead th {\n",
       "        text-align: right;\n",
       "    }\n",
       "</style>\n",
       "<table border=\"1\" class=\"dataframe\">\n",
       "  <thead>\n",
       "    <tr style=\"text-align: right;\">\n",
       "      <th></th>\n",
       "      <th>A</th>\n",
       "      <th>B</th>\n",
       "      <th>C</th>\n",
       "      <th>D</th>\n",
       "      <th>E</th>\n",
       "      <th>F</th>\n",
       "      <th>G</th>\n",
       "      <th>H</th>\n",
       "    </tr>\n",
       "  </thead>\n",
       "  <tbody>\n",
       "    <tr>\n",
       "      <th>0</th>\n",
       "      <td>23.0</td>\n",
       "      <td>8000.0</td>\n",
       "      <td>1.1</td>\n",
       "      <td>23.0</td>\n",
       "      <td>555.0</td>\n",
       "      <td>Red</td>\n",
       "      <td>Yes</td>\n",
       "      <td>Male</td>\n",
       "    </tr>\n",
       "    <tr>\n",
       "      <th>1</th>\n",
       "      <td>32.0</td>\n",
       "      <td>5000.0</td>\n",
       "      <td>2.1</td>\n",
       "      <td>26.0</td>\n",
       "      <td>555.5</td>\n",
       "      <td>Blue</td>\n",
       "      <td>No</td>\n",
       "      <td>Male</td>\n",
       "    </tr>\n",
       "    <tr>\n",
       "      <th>2</th>\n",
       "      <td>46.0</td>\n",
       "      <td>6000.0</td>\n",
       "      <td>2.4</td>\n",
       "      <td>125.0</td>\n",
       "      <td>555.5</td>\n",
       "      <td>Black</td>\n",
       "      <td>Yes</td>\n",
       "      <td>NaN</td>\n",
       "    </tr>\n",
       "    <tr>\n",
       "      <th>3</th>\n",
       "      <td>54.0</td>\n",
       "      <td>70000.0</td>\n",
       "      <td>2.4</td>\n",
       "      <td>140.0</td>\n",
       "      <td>555.5</td>\n",
       "      <td>Red</td>\n",
       "      <td>NaN</td>\n",
       "      <td>NaN</td>\n",
       "    </tr>\n",
       "    <tr>\n",
       "      <th>4</th>\n",
       "      <td>64.0</td>\n",
       "      <td>6500.0</td>\n",
       "      <td>3.6</td>\n",
       "      <td>24.0</td>\n",
       "      <td>574.0</td>\n",
       "      <td>NaN</td>\n",
       "      <td>No</td>\n",
       "      <td>Male</td>\n",
       "    </tr>\n",
       "    <tr>\n",
       "      <th>5</th>\n",
       "      <td>46.0</td>\n",
       "      <td>6000.0</td>\n",
       "      <td>2.5</td>\n",
       "      <td>26.0</td>\n",
       "      <td>556.0</td>\n",
       "      <td>Red</td>\n",
       "      <td>NaN</td>\n",
       "      <td>Female</td>\n",
       "    </tr>\n",
       "    <tr>\n",
       "      <th>6</th>\n",
       "      <td>46.0</td>\n",
       "      <td>6000.0</td>\n",
       "      <td>2.4</td>\n",
       "      <td>26.0</td>\n",
       "      <td>545.0</td>\n",
       "      <td>Blue</td>\n",
       "      <td>NaN</td>\n",
       "      <td>Male</td>\n",
       "    </tr>\n",
       "    <tr>\n",
       "      <th>7</th>\n",
       "      <td>53.0</td>\n",
       "      <td>4500.0</td>\n",
       "      <td>2.4</td>\n",
       "      <td>26.0</td>\n",
       "      <td>586.0</td>\n",
       "      <td>Red</td>\n",
       "      <td>Yes</td>\n",
       "      <td>NaN</td>\n",
       "    </tr>\n",
       "    <tr>\n",
       "      <th>8</th>\n",
       "      <td>46.0</td>\n",
       "      <td>6000.0</td>\n",
       "      <td>4.2</td>\n",
       "      <td>26.0</td>\n",
       "      <td>555.5</td>\n",
       "      <td>Black</td>\n",
       "      <td>Yes</td>\n",
       "      <td>Male</td>\n",
       "    </tr>\n",
       "    <tr>\n",
       "      <th>9</th>\n",
       "      <td>24.0</td>\n",
       "      <td>3200.0</td>\n",
       "      <td>2.3</td>\n",
       "      <td>25.0</td>\n",
       "      <td>546.0</td>\n",
       "      <td>NaN</td>\n",
       "      <td>NaN</td>\n",
       "      <td>NaN</td>\n",
       "    </tr>\n",
       "  </tbody>\n",
       "</table>\n",
       "</div>"
      ],
      "text/plain": [
       "      A        B    C      D      E      F     G       H\n",
       "0  23.0   8000.0  1.1   23.0  555.0    Red  Yes     Male\n",
       "1  32.0   5000.0  2.1   26.0  555.5   Blue    No    Male\n",
       "2  46.0   6000.0  2.4  125.0  555.5  Black  Yes      NaN\n",
       "3  54.0  70000.0  2.4  140.0  555.5    Red   NaN     NaN\n",
       "4  64.0   6500.0  3.6   24.0  574.0    NaN    No    Male\n",
       "5  46.0   6000.0  2.5   26.0  556.0    Red   NaN  Female\n",
       "6  46.0   6000.0  2.4   26.0  545.0   Blue   NaN    Male\n",
       "7  53.0   4500.0  2.4   26.0  586.0    Red  Yes      NaN\n",
       "8  46.0   6000.0  4.2   26.0  555.5  Black  Yes     Male\n",
       "9  24.0   3200.0  2.3   25.0  546.0    NaN   NaN     NaN"
      ]
     },
     "execution_count": 5,
     "metadata": {},
     "output_type": "execute_result"
    }
   ],
   "source": [
    "data"
   ]
  },
  {
   "cell_type": "code",
   "execution_count": 6,
   "id": "f441541f-24c6-4ab0-824d-e1a85a457cae",
   "metadata": {},
   "outputs": [],
   "source": [
    "# data[\"A_median\"]= data[\"A\"].fillna(data['A'].mean())\n",
    "# data"
   ]
  },
  {
   "cell_type": "code",
   "execution_count": 7,
   "id": "f3b7168b-ea66-4af3-8218-b08feadd3776",
   "metadata": {},
   "outputs": [],
   "source": [
    "# data=data.fillna(data['A'].mean())\n",
    "# data"
   ]
  },
  {
   "cell_type": "code",
   "execution_count": 8,
   "id": "3bfb75d4-e2ba-4ca6-82b9-36add3bb48d8",
   "metadata": {},
   "outputs": [
    {
     "data": {
      "text/plain": [
       "'Red'"
      ]
     },
     "execution_count": 8,
     "metadata": {},
     "output_type": "execute_result"
    }
   ],
   "source": [
    "data['F'].mode()[0]"
   ]
  },
  {
   "cell_type": "code",
   "execution_count": 9,
   "id": "557952b9-4731-4e2f-9515-5bd48b0ff822",
   "metadata": {},
   "outputs": [
    {
     "data": {
      "text/plain": [
       "2"
      ]
     },
     "execution_count": 9,
     "metadata": {},
     "output_type": "execute_result"
    }
   ],
   "source": [
    "data['F'].isnull().sum()"
   ]
  },
  {
   "cell_type": "code",
   "execution_count": 10,
   "id": "24bf9f02-635b-40e2-a7b7-3c3a628b304a",
   "metadata": {},
   "outputs": [
    {
     "data": {
      "text/plain": [
       "8    Black\n",
       "2    Black\n",
       "Name: F, dtype: object"
      ]
     },
     "execution_count": 10,
     "metadata": {},
     "output_type": "execute_result"
    }
   ],
   "source": [
    "random_sample=data['F'].dropna().sample(2,random_state=1)\n",
    "random_sample"
   ]
  },
  {
   "cell_type": "code",
   "execution_count": 11,
   "id": "5032308b-6608-44a4-bb86-798511c05465",
   "metadata": {},
   "outputs": [
    {
     "data": {
      "text/plain": [
       "4    Black\n",
       "9    Black\n",
       "Name: F, dtype: object"
      ]
     },
     "execution_count": 11,
     "metadata": {},
     "output_type": "execute_result"
    }
   ],
   "source": [
    "random_sample.index=data[data['F'].isnull()].index\n",
    "random_sample"
   ]
  },
  {
   "cell_type": "code",
   "execution_count": 12,
   "id": "b902dba5-1ef1-4192-b401-df713dee8487",
   "metadata": {},
   "outputs": [
    {
     "data": {
      "text/html": [
       "<div>\n",
       "<style scoped>\n",
       "    .dataframe tbody tr th:only-of-type {\n",
       "        vertical-align: middle;\n",
       "    }\n",
       "\n",
       "    .dataframe tbody tr th {\n",
       "        vertical-align: top;\n",
       "    }\n",
       "\n",
       "    .dataframe thead th {\n",
       "        text-align: right;\n",
       "    }\n",
       "</style>\n",
       "<table border=\"1\" class=\"dataframe\">\n",
       "  <thead>\n",
       "    <tr style=\"text-align: right;\">\n",
       "      <th></th>\n",
       "      <th>A</th>\n",
       "      <th>B</th>\n",
       "      <th>C</th>\n",
       "      <th>D</th>\n",
       "      <th>E</th>\n",
       "      <th>F</th>\n",
       "      <th>G</th>\n",
       "      <th>H</th>\n",
       "    </tr>\n",
       "  </thead>\n",
       "  <tbody>\n",
       "    <tr>\n",
       "      <th>0</th>\n",
       "      <td>23.0</td>\n",
       "      <td>8000.0</td>\n",
       "      <td>1.1</td>\n",
       "      <td>23.0</td>\n",
       "      <td>555.0</td>\n",
       "      <td>Red</td>\n",
       "      <td>Yes</td>\n",
       "      <td>Male</td>\n",
       "    </tr>\n",
       "    <tr>\n",
       "      <th>1</th>\n",
       "      <td>32.0</td>\n",
       "      <td>5000.0</td>\n",
       "      <td>2.1</td>\n",
       "      <td>26.0</td>\n",
       "      <td>555.5</td>\n",
       "      <td>Blue</td>\n",
       "      <td>No</td>\n",
       "      <td>Male</td>\n",
       "    </tr>\n",
       "    <tr>\n",
       "      <th>2</th>\n",
       "      <td>46.0</td>\n",
       "      <td>6000.0</td>\n",
       "      <td>2.4</td>\n",
       "      <td>125.0</td>\n",
       "      <td>555.5</td>\n",
       "      <td>Black</td>\n",
       "      <td>Yes</td>\n",
       "      <td>NaN</td>\n",
       "    </tr>\n",
       "    <tr>\n",
       "      <th>3</th>\n",
       "      <td>54.0</td>\n",
       "      <td>70000.0</td>\n",
       "      <td>2.4</td>\n",
       "      <td>140.0</td>\n",
       "      <td>555.5</td>\n",
       "      <td>Red</td>\n",
       "      <td>NaN</td>\n",
       "      <td>NaN</td>\n",
       "    </tr>\n",
       "    <tr>\n",
       "      <th>4</th>\n",
       "      <td>64.0</td>\n",
       "      <td>6500.0</td>\n",
       "      <td>3.6</td>\n",
       "      <td>24.0</td>\n",
       "      <td>574.0</td>\n",
       "      <td>Black</td>\n",
       "      <td>No</td>\n",
       "      <td>Male</td>\n",
       "    </tr>\n",
       "    <tr>\n",
       "      <th>5</th>\n",
       "      <td>46.0</td>\n",
       "      <td>6000.0</td>\n",
       "      <td>2.5</td>\n",
       "      <td>26.0</td>\n",
       "      <td>556.0</td>\n",
       "      <td>Red</td>\n",
       "      <td>NaN</td>\n",
       "      <td>Female</td>\n",
       "    </tr>\n",
       "    <tr>\n",
       "      <th>6</th>\n",
       "      <td>46.0</td>\n",
       "      <td>6000.0</td>\n",
       "      <td>2.4</td>\n",
       "      <td>26.0</td>\n",
       "      <td>545.0</td>\n",
       "      <td>Blue</td>\n",
       "      <td>NaN</td>\n",
       "      <td>Male</td>\n",
       "    </tr>\n",
       "    <tr>\n",
       "      <th>7</th>\n",
       "      <td>53.0</td>\n",
       "      <td>4500.0</td>\n",
       "      <td>2.4</td>\n",
       "      <td>26.0</td>\n",
       "      <td>586.0</td>\n",
       "      <td>Red</td>\n",
       "      <td>Yes</td>\n",
       "      <td>NaN</td>\n",
       "    </tr>\n",
       "    <tr>\n",
       "      <th>8</th>\n",
       "      <td>46.0</td>\n",
       "      <td>6000.0</td>\n",
       "      <td>4.2</td>\n",
       "      <td>26.0</td>\n",
       "      <td>555.5</td>\n",
       "      <td>Black</td>\n",
       "      <td>Yes</td>\n",
       "      <td>Male</td>\n",
       "    </tr>\n",
       "    <tr>\n",
       "      <th>9</th>\n",
       "      <td>24.0</td>\n",
       "      <td>3200.0</td>\n",
       "      <td>2.3</td>\n",
       "      <td>25.0</td>\n",
       "      <td>546.0</td>\n",
       "      <td>Black</td>\n",
       "      <td>NaN</td>\n",
       "      <td>NaN</td>\n",
       "    </tr>\n",
       "  </tbody>\n",
       "</table>\n",
       "</div>"
      ],
      "text/plain": [
       "      A        B    C      D      E      F     G       H\n",
       "0  23.0   8000.0  1.1   23.0  555.0    Red  Yes     Male\n",
       "1  32.0   5000.0  2.1   26.0  555.5   Blue    No    Male\n",
       "2  46.0   6000.0  2.4  125.0  555.5  Black  Yes      NaN\n",
       "3  54.0  70000.0  2.4  140.0  555.5    Red   NaN     NaN\n",
       "4  64.0   6500.0  3.6   24.0  574.0  Black    No    Male\n",
       "5  46.0   6000.0  2.5   26.0  556.0    Red   NaN  Female\n",
       "6  46.0   6000.0  2.4   26.0  545.0   Blue   NaN    Male\n",
       "7  53.0   4500.0  2.4   26.0  586.0    Red  Yes      NaN\n",
       "8  46.0   6000.0  4.2   26.0  555.5  Black  Yes     Male\n",
       "9  24.0   3200.0  2.3   25.0  546.0  Black   NaN     NaN"
      ]
     },
     "execution_count": 12,
     "metadata": {},
     "output_type": "execute_result"
    }
   ],
   "source": [
    "data['F']=data[\"F\"].fillna(random_sample)\n",
    "data"
   ]
  },
  {
   "cell_type": "code",
   "execution_count": 13,
   "id": "51901939-5ba7-429f-9b59-80fbeec209f8",
   "metadata": {},
   "outputs": [
    {
     "data": {
      "text/plain": [
       "Index(['A', 'B', 'C', 'D', 'E', 'F', 'G', 'H'], dtype='object')"
      ]
     },
     "execution_count": 13,
     "metadata": {},
     "output_type": "execute_result"
    }
   ],
   "source": [
    "data.columns"
   ]
  },
  {
   "cell_type": "code",
   "execution_count": 14,
   "id": "bc5c7ff7-bc84-4852-8171-5857edd45f8e",
   "metadata": {},
   "outputs": [
    {
     "name": "stdout",
     "output_type": "stream",
     "text": [
      "0      Red\n",
      "1     Blue\n",
      "2    Black\n",
      "3      Red\n",
      "4    Black\n",
      "5      Red\n",
      "6     Blue\n",
      "7      Red\n",
      "8    Black\n",
      "9    Black\n",
      "Name: F, dtype: object\n"
     ]
    }
   ],
   "source": [
    "print(data['F'])"
   ]
  },
  {
   "cell_type": "code",
   "execution_count": 15,
   "id": "21113bd8-f910-4e85-97b8-0fb2d7d597f5",
   "metadata": {},
   "outputs": [
    {
     "data": {
      "text/plain": [
       "[[-1, 6], [100, 2], [300, 200]]"
      ]
     },
     "execution_count": 15,
     "metadata": {},
     "output_type": "execute_result"
    }
   ],
   "source": [
    "from sklearn.preprocessing import MinMaxScaler,RobustScaler,StandardScaler\n",
    "data = [[-1,6],[100,2],[300,200]]\n",
    "data"
   ]
  },
  {
   "cell_type": "code",
   "execution_count": 16,
   "id": "a9044578-a477-4930-b632-5bf3f3a061df",
   "metadata": {},
   "outputs": [
    {
     "data": {
      "text/plain": [
       "array([[0.        , 0.02020202],\n",
       "       [0.33554817, 0.        ],\n",
       "       [1.        , 1.        ]])"
      ]
     },
     "execution_count": 16,
     "metadata": {},
     "output_type": "execute_result"
    }
   ],
   "source": [
    "mx = MinMaxScaler()\n",
    "mx.fit_transform(data)"
   ]
  },
  {
   "cell_type": "code",
   "execution_count": 17,
   "id": "73f26880-6a05-4d64-bb8c-efd6068cb3c4",
   "metadata": {},
   "outputs": [
    {
     "data": {
      "text/plain": [
       "array([[-0.67109635,  0.        ],\n",
       "       [ 0.        , -0.04040404],\n",
       "       [ 1.32890365,  1.95959596]])"
      ]
     },
     "execution_count": 17,
     "metadata": {},
     "output_type": "execute_result"
    }
   ],
   "source": [
    "rs = RobustScaler()\n",
    "rs.fit_transform(data)"
   ]
  },
  {
   "cell_type": "code",
   "execution_count": 18,
   "id": "02647aee-b3a4-48b9-8d27-debb86ab17a8",
   "metadata": {},
   "outputs": [
    {
     "data": {
      "text/plain": [
       "array([[-1.07132599, -0.68535362],\n",
       "       [-0.26383401, -0.72863911],\n",
       "       [ 1.33516   ,  1.41399274]])"
      ]
     },
     "execution_count": 18,
     "metadata": {},
     "output_type": "execute_result"
    }
   ],
   "source": [
    "ss = StandardScaler()\n",
    "ss.fit_transform(data)"
   ]
  },
  {
   "cell_type": "code",
   "execution_count": null,
   "id": "3976494a-0361-4e0f-9447-be2ed0302b15",
   "metadata": {},
   "outputs": [],
   "source": []
  }
 ],
 "metadata": {
  "kernelspec": {
   "display_name": "Python 3 (ipykernel)",
   "language": "python",
   "name": "python3"
  },
  "language_info": {
   "codemirror_mode": {
    "name": "ipython",
    "version": 3
   },
   "file_extension": ".py",
   "mimetype": "text/x-python",
   "name": "python",
   "nbconvert_exporter": "python",
   "pygments_lexer": "ipython3",
   "version": "3.12.2"
  }
 },
 "nbformat": 4,
 "nbformat_minor": 5
}
